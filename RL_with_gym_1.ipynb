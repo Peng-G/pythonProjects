{
 "cells": [
  {
   "cell_type": "markdown",
   "metadata": {},
   "source": [
    "# OpenAI - Gym API 指南\n",
    "*from Gym Documentation*"
   ]
  },
  {
   "cell_type": "markdown",
   "metadata": {},
   "source": [
    "## 初始化环境\n",
    "首先需要安装 gym package，可以通过 pip 或者 conda 等完成。"
   ]
  },
  {
   "cell_type": "code",
   "execution_count": 1,
   "metadata": {},
   "outputs": [
    {
     "name": "stdout",
     "output_type": "stream",
     "text": [
      "Defaulting to user installation because normal site-packages is not writeable\n",
      "Requirement already satisfied: gym in d:\\programs\\anaconda\\lib\\site-packages (0.21.0)\n",
      "Requirement already satisfied: cloudpickle>=1.2.0 in d:\\programs\\anaconda\\lib\\site-packages (from gym) (2.0.0)\n",
      "Requirement already satisfied: numpy>=1.18.0 in d:\\programs\\anaconda\\lib\\site-packages (from gym) (1.21.5)\n",
      "Note: you may need to restart the kernel to use updated packages.\n"
     ]
    }
   ],
   "source": [
    "%pip install gym"
   ]
  },
  {
   "cell_type": "markdown",
   "metadata": {},
   "source": [
    "调用gym.make()函数，传入一个现存的环境名，可以返回一个该环境的实例。"
   ]
  },
  {
   "cell_type": "code",
   "execution_count": 4,
   "metadata": {},
   "outputs": [],
   "source": [
    "import numpy as np\n",
    "from ray.rllib.env.multi_agent_env import MultiAgentEnv\n",
    "\n",
    "from gym import spaces\n",
    "from gym.spaces import Box"
   ]
  },
  {
   "cell_type": "code",
   "execution_count": 5,
   "metadata": {},
   "outputs": [],
   "source": [
    "def make_multi_agent(env_name_or_creator):\n",
    "    \"\"\"Convenience wrapper for any single-agent env to be converted into MA.\n",
    "    Agent IDs are int numbers starting from 0 (first agent).\n",
    "    Args:\n",
    "        env_name_or_creator (Union[str, Callable[]]: String specifier or\n",
    "            env_maker function.\n",
    "    Returns:\n",
    "        Type[MultiAgentEnv]: New MultiAgentEnv class to be used as env.\n",
    "            The constructor takes a config dict with `num_agents` key\n",
    "            (default=1). The reset of the config dict will be passed on to the\n",
    "            underlying single-agent env's constructor.\n",
    "    Examples:\n",
    "         # >>> # By gym string:\n",
    "         # >>> ma_cartpole_cls = make_multi_agent(\"CartPole-v0\")\n",
    "         # >>> # Create a 2 agent multi-agent cartpole.\n",
    "         # >>> ma_cartpole = ma_cartpole_cls({\"num_agents\": 2})\n",
    "         # >>> obs = ma_cartpole.reset()\n",
    "         # >>> print(obs)\n",
    "         # ... {0: [...], 1: [...]}\n",
    "         # >>> # By env-maker callable:\n",
    "         # >>> ma_stateless_cartpole_cls = make_multi_agent(\n",
    "         # ...    lambda config: StatelessCartPole(config))\n",
    "         # >>> # Create a 2 agent multi-agent stateless cartpole.\n",
    "         # >>> ma_stateless_cartpole = ma_stateless_cartpole_cls(\n",
    "         # ...    {\"num_agents\": 2})\n",
    "    \"\"\"\n",
    "\n",
    "    class MultiEnv(MultiAgentEnv):\n",
    "        def __init__(self, config):\n",
    "            super().__init__()\n",
    "            self.env = env_name_or_creator(config)\n",
    "            obs = self.env.observation_space\n",
    "            self.observation_space = {i: spaces.Tuple((obs[0], Box(obs[1].low[0], obs[1].high[0], shape=(1,),\n",
    "                                                                   dtype=np.int64), obs[2])) for i in range(self.env.number_agents)}\n",
    "\n",
    "            self.action_space = self.env.action_space\n",
    "\n",
    "        def reset(self):\n",
    "            obs_state = self.env.reset()\n",
    "            agents_state = obs_state[1]\n",
    "            return {i: (obs_state[0], np.array([agents_state[i]]), np.array(obs_state[2])) for i in range(self.env.number_agents)}\n",
    "\n",
    "        def step(self, action_dict):\n",
    "            obs, rew, dones, info = {}, {}, {}, {}\n",
    "            action_list = []\n",
    "            for i, action in action_dict.items():\n",
    "                action_list.append(action)\n",
    "            joint_obs_np, joint_reward_np, done, _ = self.env.step(action_list)\n",
    "            agents_state = joint_obs_np[1]\n",
    "            dones[\"__all__\"] = done\n",
    "            rew = {i: joint_reward_np for i in range(self.env.number_agents)}\n",
    "            obs = {i: (joint_obs_np[0], np.array([agents_state[i]]), np.array(joint_obs_np[2])) for i in range(self.env.number_agents)}\n",
    "            return obs, rew, dones, info\n",
    "\n",
    "    return MultiEnv"
   ]
  },
  {
   "cell_type": "code",
   "execution_count": 11,
   "metadata": {},
   "outputs": [
    {
     "name": "stdout",
     "output_type": "stream",
     "text": [
      "Box([-4.8000002e+00 -3.4028235e+38 -4.1887903e-01 -3.4028235e+38], [4.8000002e+00 3.4028235e+38 4.1887903e-01 3.4028235e+38], (4,), float32)\n"
     ]
    }
   ],
   "source": [
    "env = gym.make(\"CartPole-v0\")\n",
    "obs = env.observation_space\n",
    "print(obs)"
   ]
  },
  {
   "cell_type": "code",
   "execution_count": 20,
   "metadata": {},
   "outputs": [
    {
     "ename": "TypeError",
     "evalue": "'str' object is not callable",
     "output_type": "error",
     "traceback": [
      "\u001b[1;31m---------------------------------------------------------------------------\u001b[0m",
      "\u001b[1;31mTypeError\u001b[0m                                 Traceback (most recent call last)",
      "\u001b[1;32md:\\Documents\\Coding\\RL_with_gym_1.ipynb Cell 8'\u001b[0m in \u001b[0;36m<cell line: 2>\u001b[1;34m()\u001b[0m\n\u001b[0;32m      <a href='vscode-notebook-cell:/d%3A/Documents/Coding/RL_with_gym_1.ipynb#ch0000007?line=0'>1</a>\u001b[0m ma_cartpole_cls \u001b[39m=\u001b[39m make_multi_agent(\u001b[39m\"\u001b[39m\u001b[39mCartPole-v0\u001b[39m\u001b[39m\"\u001b[39m)\n\u001b[1;32m----> <a href='vscode-notebook-cell:/d%3A/Documents/Coding/RL_with_gym_1.ipynb#ch0000007?line=1'>2</a>\u001b[0m ma_cartpole \u001b[39m=\u001b[39m ma_cartpole_cls(config\u001b[39m=\u001b[39;49m{\u001b[39m\"\u001b[39;49m\u001b[39mnum_agents\u001b[39;49m\u001b[39m\"\u001b[39;49m: \u001b[39m2\u001b[39;49m})\n",
      "\u001b[1;32md:\\Documents\\Coding\\RL_with_gym_1.ipynb Cell 6'\u001b[0m in \u001b[0;36mmake_multi_agent.<locals>.MultiEnv.__init__\u001b[1;34m(self, config)\u001b[0m\n\u001b[0;32m     <a href='vscode-notebook-cell:/d%3A/Documents/Coding/RL_with_gym_1.ipynb#ch0000005?line=28'>29</a>\u001b[0m \u001b[39mdef\u001b[39;00m \u001b[39m__init__\u001b[39m(\u001b[39mself\u001b[39m, config):\n\u001b[0;32m     <a href='vscode-notebook-cell:/d%3A/Documents/Coding/RL_with_gym_1.ipynb#ch0000005?line=29'>30</a>\u001b[0m     \u001b[39msuper\u001b[39m()\u001b[39m.\u001b[39m\u001b[39m__init__\u001b[39m()\n\u001b[1;32m---> <a href='vscode-notebook-cell:/d%3A/Documents/Coding/RL_with_gym_1.ipynb#ch0000005?line=30'>31</a>\u001b[0m     \u001b[39mself\u001b[39m\u001b[39m.\u001b[39menv \u001b[39m=\u001b[39m env_name_or_creator(config)\n\u001b[0;32m     <a href='vscode-notebook-cell:/d%3A/Documents/Coding/RL_with_gym_1.ipynb#ch0000005?line=31'>32</a>\u001b[0m     obs \u001b[39m=\u001b[39m \u001b[39mself\u001b[39m\u001b[39m.\u001b[39menv\u001b[39m.\u001b[39mobservation_space\n\u001b[0;32m     <a href='vscode-notebook-cell:/d%3A/Documents/Coding/RL_with_gym_1.ipynb#ch0000005?line=32'>33</a>\u001b[0m     \u001b[39mself\u001b[39m\u001b[39m.\u001b[39mobservation_space \u001b[39m=\u001b[39m {i: spaces\u001b[39m.\u001b[39mTuple((obs[\u001b[39m0\u001b[39m], Box(obs[\u001b[39m1\u001b[39m]\u001b[39m.\u001b[39mlow[\u001b[39m0\u001b[39m], obs[\u001b[39m1\u001b[39m]\u001b[39m.\u001b[39mhigh[\u001b[39m0\u001b[39m], shape\u001b[39m=\u001b[39m(\u001b[39m1\u001b[39m,),\n\u001b[0;32m     <a href='vscode-notebook-cell:/d%3A/Documents/Coding/RL_with_gym_1.ipynb#ch0000005?line=33'>34</a>\u001b[0m                                                            dtype\u001b[39m=\u001b[39mnp\u001b[39m.\u001b[39mint64), obs[\u001b[39m2\u001b[39m])) \u001b[39mfor\u001b[39;00m i \u001b[39min\u001b[39;00m \u001b[39mrange\u001b[39m(\u001b[39mself\u001b[39m\u001b[39m.\u001b[39menv\u001b[39m.\u001b[39mnumber_agents)}\n",
      "\u001b[1;31mTypeError\u001b[0m: 'str' object is not callable"
     ]
    }
   ],
   "source": [
    "ma_cartpole_cls = make_multi_agent(\"CartPole-v0\")\n",
    "ma_cartpole = ma_cartpole_cls(config={\"num_agents\": 2})"
   ]
  }
 ],
 "metadata": {
  "kernelspec": {
   "display_name": "Python 3.9.12 ('base')",
   "language": "python",
   "name": "python3"
  },
  "language_info": {
   "codemirror_mode": {
    "name": "ipython",
    "version": 3
   },
   "file_extension": ".py",
   "mimetype": "text/x-python",
   "name": "python",
   "nbconvert_exporter": "python",
   "pygments_lexer": "ipython3",
   "version": "3.9.12"
  },
  "orig_nbformat": 4,
  "vscode": {
   "interpreter": {
    "hash": "90ae384ec8aa6644af31da6e68cfa043ca5e4f959255e106df86226e1926c12a"
   }
  }
 },
 "nbformat": 4,
 "nbformat_minor": 2
}
