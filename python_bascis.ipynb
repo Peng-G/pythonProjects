{
 "cells": [
  {
   "cell_type": "code",
   "execution_count": 2,
   "metadata": {},
   "outputs": [],
   "source": [
    "from turtle import *\n",
    "color('red', 'yellow')\n",
    "begin_fill()\n",
    "while True:\n",
    "    forward(400)\n",
    "    left(155)\n",
    "    if abs(pos()) < 1:\n",
    "        break\n",
    "end_fill()\n",
    "done()"
   ]
  },
  {
   "cell_type": "code",
   "execution_count": 2,
   "metadata": {},
   "outputs": [
    {
     "data": {
      "text/plain": [
       "[1, 2, 3, 4, 5]"
      ]
     },
     "execution_count": 2,
     "metadata": {},
     "output_type": "execute_result"
    }
   ],
   "source": [
    "# 使用切片方法对列表进行增删\n",
    "nums = [1,5]\n",
    "nums[1:1] = [2,3,4]\n",
    "nums"
   ]
  },
  {
   "cell_type": "code",
   "execution_count": 6,
   "metadata": {},
   "outputs": [
    {
     "name": "stdout",
     "output_type": "stream",
     "text": [
      "[1, 2, 3, 4, 5, 6] [1, 2, 3, 4, 5, 6]\n"
     ]
    }
   ],
   "source": [
    "# 只是将x赋给y是不可行的,因为这样x和y将指向同一个列表。\n",
    "x = [6,2,5,3,4,1]\n",
    "y = x\n",
    "y.sort()\n",
    "print(x,y)"
   ]
  },
  {
   "cell_type": "code",
   "execution_count": 5,
   "metadata": {},
   "outputs": [
    {
     "name": "stdout",
     "output_type": "stream",
     "text": [
      "[6, 2, 5, 3, 4, 1] [1, 2, 3, 4, 5, 6]\n"
     ]
    }
   ],
   "source": [
    "# 正确的方式之一是先将y关联到x的副本,再对y进行排序。\n",
    "x = [6,2,5,3,4,1]\n",
    "y = x.copy()\n",
    "y.sort()\n",
    "print(x,y)"
   ]
  },
  {
   "cell_type": "code",
   "execution_count": 7,
   "metadata": {},
   "outputs": [
    {
     "name": "stdout",
     "output_type": "stream",
     "text": [
      "[6, 2, 5, 3, 4, 1] [1, 2, 3, 4, 5, 6]\n"
     ]
    }
   ],
   "source": [
    "#或者使用sorted()函数，sorted可以用于任何序列，但是都返回一个列表。\n",
    "x = [6,2,5,3,4,1]\n",
    "y = sorted(x)\n",
    "print(x,y)"
   ]
  },
  {
   "cell_type": "code",
   "execution_count": 9,
   "metadata": {},
   "outputs": [
    {
     "data": {
      "text/plain": [
       "'Hello, world. Hot enough for ya?'"
      ]
     },
     "execution_count": 9,
     "metadata": {},
     "output_type": "execute_result"
    }
   ],
   "source": [
    "format = \"Hello, %s. %s enough for ya?\"\n",
    "values = ('world','Hot')\n",
    "format % values"
   ]
  },
  {
   "cell_type": "code",
   "execution_count": 10,
   "metadata": {},
   "outputs": [
    {
     "data": {
      "text/plain": [
       "'Hello, Mars! Dusty enough for ya?'"
      ]
     },
     "execution_count": 10,
     "metadata": {},
     "output_type": "execute_result"
    }
   ],
   "source": [
    "from string import Template\n",
    "tmpl = Template(\"Hello, $who! $what enough for ya?\")\n",
    "tmpl.substitute(who=\"Mars\", what=\"Dusty\")"
   ]
  },
  {
   "cell_type": "code",
   "execution_count": 15,
   "metadata": {},
   "outputs": [
    {
     "name": "stdout",
     "output_type": "stream",
     "text": [
      "1\n",
      "[3, 4]\n",
      "['Percival', 'Wulfric', 'Brian']\n"
     ]
    }
   ],
   "source": [
    "# 序列解包，可以使用*来收集多余的值，*星号收集到的永远是一个列表，可以放在任意位置。\n",
    "x,y,z = 1,2,3\n",
    "print(x)\n",
    "\n",
    "a,b,*rest = 1,2,3,4\n",
    "print(rest)\n",
    "\n",
    "name = \"Albus Percival Wulfric Brian Dumbledore\"\n",
    "first, *middle, last = name.split()\n",
    "print(middle)"
   ]
  },
  {
   "cell_type": "code",
   "execution_count": 19,
   "metadata": {},
   "outputs": [
    {
     "name": "stdout",
     "output_type": "stream",
     "text": [
      "105\n",
      "🙊\n"
     ]
    }
   ],
   "source": [
    "# 获得字母的顺序值可以使用ord，获得顺序值对应的字母可以使用chr。\n",
    "print(ord(\"i\"))\n",
    "print(chr(128586))"
   ]
  },
  {
   "cell_type": "code",
   "execution_count": 21,
   "metadata": {},
   "outputs": [
    {
     "ename": "AssertionError",
     "evalue": "age must be realistic",
     "output_type": "error",
     "traceback": [
      "\u001b[1;31m---------------------------------------------------------------------------\u001b[0m",
      "\u001b[1;31mAssertionError\u001b[0m                            Traceback (most recent call last)",
      "\u001b[1;32md:\\Documents\\Coding\\python_bascis.ipynb Cell 10'\u001b[0m in \u001b[0;36m<cell line: 3>\u001b[1;34m()\u001b[0m\n\u001b[0;32m      <a href='vscode-notebook-cell:/d%3A/Documents/Coding/python_bascis.ipynb#ch0000011?line=0'>1</a>\u001b[0m \u001b[39m# 断言函数assert，当某些条件没有得到满足时，程序立刻崩溃。\u001b[39;00m\n\u001b[0;32m      <a href='vscode-notebook-cell:/d%3A/Documents/Coding/python_bascis.ipynb#ch0000011?line=1'>2</a>\u001b[0m age \u001b[39m=\u001b[39m \u001b[39m-\u001b[39m\u001b[39m1\u001b[39m\n\u001b[1;32m----> <a href='vscode-notebook-cell:/d%3A/Documents/Coding/python_bascis.ipynb#ch0000011?line=2'>3</a>\u001b[0m \u001b[39massert\u001b[39;00m \u001b[39m0\u001b[39m\u001b[39m<\u001b[39mage\u001b[39m<\u001b[39m\u001b[39m100\u001b[39m, \u001b[39m'\u001b[39m\u001b[39mage must be realistic\u001b[39m\u001b[39m'\u001b[39m\n",
      "\u001b[1;31mAssertionError\u001b[0m: age must be realistic"
     ]
    }
   ],
   "source": [
    "# 断言函数assert，当某些条件没有得到满足时，程序立刻崩溃。\n",
    "age = -1\n",
    "assert 0<age<100, 'age must be realistic'"
   ]
  },
  {
   "cell_type": "code",
   "execution_count": 22,
   "metadata": {},
   "outputs": [
    {
     "data": {
      "text/plain": [
       "[('anne', 12), ('beth', 45), ('george', 32), ('damon', 102)]"
      ]
     },
     "execution_count": 22,
     "metadata": {},
     "output_type": "execute_result"
    }
   ],
   "source": [
    "# 并行迭代工具 zip，可以将两个序列缝合起来。二者长度不要求相等，但是结果只会返回至较短一个结束。\n",
    "names = ['anne', 'beth', 'george', 'damon']\n",
    "ages = [12, 45, 32, 102]\n",
    "list(zip(names,ages))"
   ]
  },
  {
   "cell_type": "code",
   "execution_count": null,
   "metadata": {},
   "outputs": [],
   "source": [
    "# del删除一个对象的名字，不再使用。\n",
    "del a\n",
    "\n",
    "# 使用pass来表示什么都不做，直接跳过这一段。\n",
    "pass"
   ]
  },
  {
   "cell_type": "code",
   "execution_count": 2,
   "metadata": {},
   "outputs": [],
   "source": [
    "# docstring文档字符串，放在函数开头，作为函数的一部分存储起来的函数说明。\n",
    "def square(x):\n",
    "    'calculate the square of the number x'\n",
    "    return x*x"
   ]
  },
  {
   "cell_type": "code",
   "execution_count": 3,
   "metadata": {},
   "outputs": [
    {
     "data": {
      "text/plain": [
       "'calculate the square of the number x'"
      ]
     },
     "execution_count": 3,
     "metadata": {},
     "output_type": "execute_result"
    }
   ],
   "source": [
    "# 查看函数的文档字符串。\n",
    "square.__doc__"
   ]
  },
  {
   "cell_type": "code",
   "execution_count": 4,
   "metadata": {},
   "outputs": [
    {
     "name": "stdout",
     "output_type": "stream",
     "text": [
      "1 (2, 3, 4, 5) 7\n"
     ]
    }
   ],
   "source": [
    "# 函数的参数列表中可以使用*param来收集一个参数元组，也可以使用**param来收集一个关键字参数。前者返回一个元组，后者返回一个字典。\n",
    "# *param不会收集关键字参数，函数所需要的关键字参数必须明确指定。\n",
    "def in_the_middle(x, *y, z):\n",
    "    print(x, y, z)\n",
    "in_the_middle(1, 2, 3, 4, 5, z=7)"
   ]
  },
  {
   "cell_type": "code",
   "execution_count": 5,
   "metadata": {},
   "outputs": [
    {
     "name": "stdout",
     "output_type": "stream",
     "text": [
      "{'x': 1, 'y': 2, 'z': 3}\n"
     ]
    }
   ],
   "source": [
    "def print_params_3(**params):\n",
    "    print(params)\n",
    "print_params_3(x=1, y=2, z=3)"
   ]
  },
  {
   "cell_type": "code",
   "execution_count": 8,
   "metadata": {},
   "outputs": [
    {
     "name": "stdout",
     "output_type": "stream",
     "text": [
      "1 2 3\n",
      "(5, 6, 7)\n",
      "{'foo': 1, 'bar': 2}\n"
     ]
    }
   ],
   "source": [
    "def print_params_4(x, y, z=3, *pospar, **keypar):\n",
    "    print(x, y, z)\n",
    "    print(pospar)\n",
    "    print(keypar)\n",
    "\n",
    "print_params_4(1, 2, 3, 5, 6, 7, foo=1, bar=2)"
   ]
  },
  {
   "cell_type": "code",
   "execution_count": 9,
   "metadata": {},
   "outputs": [],
   "source": [
    "# 使用递归方法实现幂的计算\n",
    "def power(x,n):\n",
    "    'return the value of x^n^'\n",
    "    if n==0:\n",
    "        return 1\n",
    "    else:\n",
    "        return x*power(x,n-1)"
   ]
  },
  {
   "cell_type": "code",
   "execution_count": 10,
   "metadata": {},
   "outputs": [
    {
     "data": {
      "text/plain": [
       "8"
      ]
     },
     "execution_count": 10,
     "metadata": {},
     "output_type": "execute_result"
    }
   ],
   "source": [
    "power(2,3)"
   ]
  },
  {
   "cell_type": "code",
   "execution_count": 12,
   "metadata": {},
   "outputs": [],
   "source": [
    "# 使用递归方法实现二分查找\n",
    "def search(seq, number, lower=0, upper=None):\n",
    "    '在给定序列中查找指定数字，返回这个数字对应的坐标，或者不包含这个数字'\n",
    "    if upper == None:\n",
    "        upper = len(seq)-1\n",
    "    if lower == upper:\n",
    "        assert seq[upper] == number\n",
    "        return upper\n",
    "    else:\n",
    "        middle = (lower + upper)//2\n",
    "        if number > seq[middle]:\n",
    "            return search(seq, number, middle+1, upper)\n",
    "        else:\n",
    "            return search(seq, number, lower, middle)"
   ]
  },
  {
   "cell_type": "code",
   "execution_count": 14,
   "metadata": {},
   "outputs": [
    {
     "name": "stdout",
     "output_type": "stream",
     "text": [
      "[4, 8, 34, 67, 95, 100, 123]\n"
     ]
    },
    {
     "data": {
      "text/plain": [
       "2"
      ]
     },
     "execution_count": 14,
     "metadata": {},
     "output_type": "execute_result"
    }
   ],
   "source": [
    "seq = [34, 67, 8, 123, 4, 100, 95]\n",
    "seq.sort()\n",
    "print(seq)\n",
    "search(seq,34)"
   ]
  },
  {
   "cell_type": "code",
   "execution_count": 15,
   "metadata": {},
   "outputs": [],
   "source": [
    "# abstract class\n",
    "from abc import ABC, abstractmethod\n",
    "\n",
    "class Talker(ABC):\n",
    "    @abstractmethod\n",
    "    def talk(self):\n",
    "        pass"
   ]
  },
  {
   "cell_type": "code",
   "execution_count": 16,
   "metadata": {},
   "outputs": [
    {
     "ename": "TypeError",
     "evalue": "Can't instantiate abstract class Talker with abstract method talk",
     "output_type": "error",
     "traceback": [
      "\u001b[1;31m---------------------------------------------------------------------------\u001b[0m",
      "\u001b[1;31mTypeError\u001b[0m                                 Traceback (most recent call last)",
      "\u001b[1;32md:\\Documents\\Coding\\python_bascis.ipynb Cell 23'\u001b[0m in \u001b[0;36m<cell line: 1>\u001b[1;34m()\u001b[0m\n\u001b[1;32m----> <a href='vscode-notebook-cell:/d%3A/Documents/Coding/python_bascis.ipynb#ch0000022?line=0'>1</a>\u001b[0m Talker()\n",
      "\u001b[1;31mTypeError\u001b[0m: Can't instantiate abstract class Talker with abstract method talk"
     ]
    }
   ],
   "source": [
    "# 抽象类不能实例化，只用来为一系列子类实现一些抽象方法。\n",
    "Talker()"
   ]
  },
  {
   "cell_type": "code",
   "execution_count": 17,
   "metadata": {},
   "outputs": [],
   "source": [
    "# 创建一个类继承Talker，重写抽象方法talk()。\n",
    "class Knigget(Talker):\n",
    "    def talk(self):\n",
    "        print(\"Ni!\")"
   ]
  },
  {
   "cell_type": "code",
   "execution_count": 20,
   "metadata": {},
   "outputs": [
    {
     "name": "stdout",
     "output_type": "stream",
     "text": [
      "True\n",
      "Ni!\n"
     ]
    }
   ],
   "source": [
    "k = Knigget()\n",
    "print(isinstance(k,Talker))\n",
    "k.talk()"
   ]
  },
  {
   "cell_type": "code",
   "execution_count": 1,
   "metadata": {},
   "outputs": [
    {
     "name": "stdout",
     "output_type": "stream",
     "text": [
      "hello world!\n"
     ]
    }
   ],
   "source": [
    "# 在一个模块中除了包含需要的函数方法，还应该包含简单的测试。\n",
    "# 使用if语句判断当前调用模块的程序是否为主程序，如果是则运行测试。\n",
    "# hello.py\n",
    "def hello():\n",
    "    print(\"hello world!\")\n",
    "\n",
    "def test():\n",
    "    hello()\n",
    "\n",
    "if __name__ == '__main__':\n",
    "    test()"
   ]
  },
  {
   "cell_type": "code",
   "execution_count": 2,
   "metadata": {},
   "outputs": [
    {
     "name": "stdout",
     "output_type": "stream",
     "text": [
      "['d:\\\\Documents\\\\Coding',\n",
      " 'C:\\\\Program '\n",
      " 'Files\\\\WindowsApps\\\\PythonSoftwareFoundation.Python.3.10_3.10.1264.0_x64__qbz5n2kfra8p0\\\\python310.zip',\n",
      " 'C:\\\\Program '\n",
      " 'Files\\\\WindowsApps\\\\PythonSoftwareFoundation.Python.3.10_3.10.1264.0_x64__qbz5n2kfra8p0\\\\DLLs',\n",
      " 'C:\\\\Program '\n",
      " 'Files\\\\WindowsApps\\\\PythonSoftwareFoundation.Python.3.10_3.10.1264.0_x64__qbz5n2kfra8p0\\\\lib',\n",
      " 'C:\\\\Users\\\\gongp\\\\AppData\\\\Local\\\\Microsoft\\\\WindowsApps\\\\PythonSoftwareFoundation.Python.3.10_qbz5n2kfra8p0',\n",
      " '',\n",
      " 'C:\\\\Users\\\\gongp\\\\AppData\\\\Local\\\\Packages\\\\PythonSoftwareFoundation.Python.3.10_qbz5n2kfra8p0\\\\LocalCache\\\\local-packages\\\\Python310\\\\site-packages',\n",
      " 'C:\\\\Users\\\\gongp\\\\AppData\\\\Local\\\\Packages\\\\PythonSoftwareFoundation.Python.3.10_qbz5n2kfra8p0\\\\LocalCache\\\\local-packages\\\\Python310\\\\site-packages\\\\win32',\n",
      " 'C:\\\\Users\\\\gongp\\\\AppData\\\\Local\\\\Packages\\\\PythonSoftwareFoundation.Python.3.10_qbz5n2kfra8p0\\\\LocalCache\\\\local-packages\\\\Python310\\\\site-packages\\\\win32\\\\lib',\n",
      " 'C:\\\\Users\\\\gongp\\\\AppData\\\\Local\\\\Packages\\\\PythonSoftwareFoundation.Python.3.10_qbz5n2kfra8p0\\\\LocalCache\\\\local-packages\\\\Python310\\\\site-packages\\\\Pythonwin',\n",
      " 'C:\\\\Program '\n",
      " 'Files\\\\WindowsApps\\\\PythonSoftwareFoundation.Python.3.10_3.10.1264.0_x64__qbz5n2kfra8p0',\n",
      " 'C:\\\\Program '\n",
      " 'Files\\\\WindowsApps\\\\PythonSoftwareFoundation.Python.3.10_3.10.1264.0_x64__qbz5n2kfra8p0\\\\lib\\\\site-packages']\n"
     ]
    }
   ],
   "source": [
    "import sys, pprint\n",
    "pprint.pprint(sys.path)"
   ]
  },
  {
   "cell_type": "code",
   "execution_count": 9,
   "metadata": {},
   "outputs": [
    {
     "data": {
      "text/plain": [
       "['Error', 'copy', 'deepcopy', 'dispatch_table', 'error']"
      ]
     },
     "execution_count": 9,
     "metadata": {},
     "output_type": "execute_result"
    }
   ],
   "source": [
    "import copy\n",
    "\n",
    "[n for n in dir(copy) if not n.startswith('_')]"
   ]
  },
  {
   "cell_type": "code",
   "execution_count": 10,
   "metadata": {},
   "outputs": [
    {
     "data": {
      "text/plain": [
       "['Error', 'copy', 'deepcopy']"
      ]
     },
     "execution_count": 10,
     "metadata": {},
     "output_type": "execute_result"
    }
   ],
   "source": [
    "copy.__all__"
   ]
  },
  {
   "cell_type": "code",
   "execution_count": 12,
   "metadata": {},
   "outputs": [
    {
     "name": "stdout",
     "output_type": "stream",
     "text": [
      "Help on function copy in module copy:\n",
      "\n",
      "copy(x)\n",
      "    Shallow copy operation on arbitrary Python objects.\n",
      "    \n",
      "    See the module's __doc__ string for more info.\n",
      "\n"
     ]
    }
   ],
   "source": [
    "help(copy.copy)"
   ]
  },
  {
   "cell_type": "code",
   "execution_count": 15,
   "metadata": {},
   "outputs": [
    {
     "name": "stdout",
     "output_type": "stream",
     "text": [
      "('range(stop) -> range object\\n'\n",
      " 'range(start, stop[, step]) -> range object\\n'\n",
      " '\\n'\n",
      " 'Return an object that produces a sequence of integers from start '\n",
      " '(inclusive)\\n'\n",
      " 'to stop (exclusive) by step.  range(i, j) produces i, i+1, i+2, ..., j-1.\\n'\n",
      " 'start defaults to 0, and stop is omitted!  range(4) produces 0, 1, 2, 3.\\n'\n",
      " 'These are exactly the valid indices for a list of 4 elements.\\n'\n",
      " 'When step is given, it specifies the increment (or decrement).')\n"
     ]
    }
   ],
   "source": [
    "pprint.pprint(range.__doc__)"
   ]
  },
  {
   "cell_type": "code",
   "execution_count": 25,
   "metadata": {},
   "outputs": [
    {
     "data": {
      "text/plain": [
       "'C:\\\\Program Files\\\\WindowsApps\\\\PythonSoftwareFoundation.Python.3.10_3.10.1264.0_x64__qbz5n2kfra8p0\\\\lib\\\\copy.py'"
      ]
     },
     "execution_count": 25,
     "metadata": {},
     "output_type": "execute_result"
    }
   ],
   "source": [
    "dt = copy.__file__\n",
    "dt"
   ]
  },
  {
   "cell_type": "code",
   "execution_count": 1,
   "metadata": {},
   "outputs": [
    {
     "data": {
      "text/plain": [
       "True"
      ]
     },
     "execution_count": 1,
     "metadata": {},
     "output_type": "execute_result"
    }
   ],
   "source": [
    "import webbrowser\n",
    "webbrowser.open('http://www.python.org')"
   ]
  },
  {
   "cell_type": "code",
   "execution_count": 2,
   "metadata": {},
   "outputs": [],
   "source": [
    "from heapq import *\n",
    "from random import shuffle\n",
    "data = list(range(10))\n",
    "shuffle(data)\n",
    "heap = []\n",
    "for n in data:\n",
    "    heappush(heap,n)"
   ]
  },
  {
   "cell_type": "code",
   "execution_count": 3,
   "metadata": {},
   "outputs": [
    {
     "data": {
      "text/plain": [
       "[0, 1, 2, 6, 3, 5, 4, 8, 7, 9]"
      ]
     },
     "execution_count": 3,
     "metadata": {},
     "output_type": "execute_result"
    }
   ],
   "source": [
    "heap"
   ]
  },
  {
   "cell_type": "code",
   "execution_count": 5,
   "metadata": {},
   "outputs": [
    {
     "data": {
      "text/plain": [
       "[0, 0.5, 0.5, 6, 1, 2, 4, 8, 7, 9, 3, 5]"
      ]
     },
     "execution_count": 5,
     "metadata": {},
     "output_type": "execute_result"
    }
   ],
   "source": [
    "heappush(heap, 0.5)\n",
    "heap"
   ]
  },
  {
   "cell_type": "code",
   "execution_count": 6,
   "metadata": {},
   "outputs": [
    {
     "data": {
      "text/plain": [
       "0"
      ]
     },
     "execution_count": 6,
     "metadata": {},
     "output_type": "execute_result"
    }
   ],
   "source": [
    "heappop(heap)"
   ]
  },
  {
   "cell_type": "code",
   "execution_count": 11,
   "metadata": {},
   "outputs": [
    {
     "data": {
      "text/plain": [
       "'Tue May 31 17:01:53 2022'"
      ]
     },
     "execution_count": 11,
     "metadata": {},
     "output_type": "execute_result"
    }
   ],
   "source": [
    "from time import *\n",
    "asctime()\n",
    "sleep(6)\n",
    "asctime()"
   ]
  },
  {
   "cell_type": "code",
   "execution_count": 29,
   "metadata": {},
   "outputs": [
    {
     "data": {
      "text/plain": [
       "12"
      ]
     },
     "execution_count": 29,
     "metadata": {},
     "output_type": "execute_result"
    }
   ],
   "source": [
    "import random\n",
    "random.uniform(0,360)\n",
    "random.randrange(0,20,3)"
   ]
  },
  {
   "cell_type": "code",
   "execution_count": 2,
   "metadata": {},
   "outputs": [
    {
     "name": "stdout",
     "output_type": "stream",
     "text": [
      "['King of clubs',\n",
      " '2 of clubs',\n",
      " 'Queen of clubs',\n",
      " 'Jack of clubs',\n",
      " 'King of spades',\n",
      " 'Queen of hearts',\n",
      " '2 of diamonds',\n",
      " '9 of spades',\n",
      " '6 of diamonds',\n",
      " '10 of hearts',\n",
      " '1 of clubs',\n",
      " '1 of diamonds']\n"
     ]
    }
   ],
   "source": [
    "import pprint, random\n",
    "values = list(range(1, 11)) + 'Jack Queen King'.split()\n",
    "suits = 'diamonds clubs hearts spades'.split()\n",
    "deck = ['{} of {}'.format(v, s) for v in values for s in suits]\n",
    "\n",
    "# from random import shuffle\n",
    "random.shuffle(deck)\n",
    "pprint.pprint(deck[:12])\n",
    "# while deck: input(deck.pop())"
   ]
  }
 ],
 "metadata": {
  "interpreter": {
   "hash": "731ae9408b834e8e304ebf7b909e3292a44b8c9a9f2094ed2d7c7223cd151636"
  },
  "kernelspec": {
   "display_name": "Python 3.10.4 64-bit (windows store)",
   "language": "python",
   "name": "python3"
  },
  "language_info": {
   "codemirror_mode": {
    "name": "ipython",
    "version": 3
   },
   "file_extension": ".py",
   "mimetype": "text/x-python",
   "name": "python",
   "nbconvert_exporter": "python",
   "pygments_lexer": "ipython3",
   "version": "3.10.5"
  },
  "orig_nbformat": 4
 },
 "nbformat": 4,
 "nbformat_minor": 2
}
