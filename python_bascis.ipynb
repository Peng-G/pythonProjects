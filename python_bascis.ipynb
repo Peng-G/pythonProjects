{
 "cells": [
  {
   "cell_type": "code",
   "execution_count": 2,
   "metadata": {},
   "outputs": [],
   "source": [
    "from turtle import *\n",
    "color('red', 'yellow')\n",
    "begin_fill()\n",
    "while True:\n",
    "    forward(400)\n",
    "    left(155)\n",
    "    if abs(pos()) < 1:\n",
    "        break\n",
    "end_fill()\n",
    "done()"
   ]
  },
  {
   "cell_type": "code",
   "execution_count": 2,
   "metadata": {},
   "outputs": [
    {
     "data": {
      "text/plain": [
       "[1, 2, 3, 4, 5]"
      ]
     },
     "execution_count": 2,
     "metadata": {},
     "output_type": "execute_result"
    }
   ],
   "source": [
    "# 使用切片方法对列表进行增删\n",
    "nums = [1,5]\n",
    "nums[1:1] = [2,3,4]\n",
    "nums"
   ]
  },
  {
   "cell_type": "code",
   "execution_count": 6,
   "metadata": {},
   "outputs": [
    {
     "name": "stdout",
     "output_type": "stream",
     "text": [
      "[1, 2, 3, 4, 5, 6] [1, 2, 3, 4, 5, 6]\n"
     ]
    }
   ],
   "source": [
    "# 只是将x赋给y是不可行的,因为这样x和y将指向同一个列表。\n",
    "x = [6,2,5,3,4,1]\n",
    "y = x\n",
    "y.sort()\n",
    "print(x,y)"
   ]
  },
  {
   "cell_type": "code",
   "execution_count": 5,
   "metadata": {},
   "outputs": [
    {
     "name": "stdout",
     "output_type": "stream",
     "text": [
      "[6, 2, 5, 3, 4, 1] [1, 2, 3, 4, 5, 6]\n"
     ]
    }
   ],
   "source": [
    "# 正确的方式之一是先将y关联到x的副本,再对y进行排序。\n",
    "x = [6,2,5,3,4,1]\n",
    "y = x.copy()\n",
    "y.sort()\n",
    "print(x,y)"
   ]
  },
  {
   "cell_type": "code",
   "execution_count": 7,
   "metadata": {},
   "outputs": [
    {
     "name": "stdout",
     "output_type": "stream",
     "text": [
      "[6, 2, 5, 3, 4, 1] [1, 2, 3, 4, 5, 6]\n"
     ]
    }
   ],
   "source": [
    "#或者使用sorted()函数，sorted可以用于任何序列，但是都返回一个列表。\n",
    "x = [6,2,5,3,4,1]\n",
    "y = sorted(x)\n",
    "print(x,y)"
   ]
  },
  {
   "cell_type": "code",
   "execution_count": 9,
   "metadata": {},
   "outputs": [
    {
     "data": {
      "text/plain": [
       "'Hello, world. Hot enough for ya?'"
      ]
     },
     "execution_count": 9,
     "metadata": {},
     "output_type": "execute_result"
    }
   ],
   "source": [
    "format = \"Hello, %s. %s enough for ya?\"\n",
    "values = ('world','Hot')\n",
    "format % values"
   ]
  },
  {
   "cell_type": "code",
   "execution_count": 10,
   "metadata": {},
   "outputs": [
    {
     "data": {
      "text/plain": [
       "'Hello, Mars! Dusty enough for ya?'"
      ]
     },
     "execution_count": 10,
     "metadata": {},
     "output_type": "execute_result"
    }
   ],
   "source": [
    "from string import Template\n",
    "tmpl = Template(\"Hello, $who! $what enough for ya?\")\n",
    "tmpl.substitute(who=\"Mars\", what=\"Dusty\")"
   ]
  },
  {
   "cell_type": "code",
   "execution_count": 15,
   "metadata": {},
   "outputs": [
    {
     "name": "stdout",
     "output_type": "stream",
     "text": [
      "1\n",
      "[3, 4]\n",
      "['Percival', 'Wulfric', 'Brian']\n"
     ]
    }
   ],
   "source": [
    "# 序列解包，可以使用*来收集多余的值，*星号收集到的永远是一个列表，可以放在任意位置。\n",
    "x,y,z = 1,2,3\n",
    "print(x)\n",
    "\n",
    "a,b,*rest = 1,2,3,4\n",
    "print(rest)\n",
    "\n",
    "name = \"Albus Percival Wulfric Brian Dumbledore\"\n",
    "first, *middle, last = name.split()\n",
    "print(middle)"
   ]
  },
  {
   "cell_type": "code",
   "execution_count": 19,
   "metadata": {},
   "outputs": [
    {
     "name": "stdout",
     "output_type": "stream",
     "text": [
      "105\n",
      "🙊\n"
     ]
    }
   ],
   "source": [
    "# 获得字母的顺序值可以使用ord，获得顺序值对应的字母可以使用chr。\n",
    "print(ord(\"i\"))\n",
    "print(chr(128586))"
   ]
  },
  {
   "cell_type": "code",
   "execution_count": 21,
   "metadata": {},
   "outputs": [
    {
     "ename": "AssertionError",
     "evalue": "age must be realistic",
     "output_type": "error",
     "traceback": [
      "\u001b[1;31m---------------------------------------------------------------------------\u001b[0m",
      "\u001b[1;31mAssertionError\u001b[0m                            Traceback (most recent call last)",
      "\u001b[1;32md:\\Documents\\Coding\\python_bascis.ipynb Cell 10'\u001b[0m in \u001b[0;36m<cell line: 3>\u001b[1;34m()\u001b[0m\n\u001b[0;32m      <a href='vscode-notebook-cell:/d%3A/Documents/Coding/python_bascis.ipynb#ch0000011?line=0'>1</a>\u001b[0m \u001b[39m# 断言函数assert，当某些条件没有得到满足时，程序立刻崩溃。\u001b[39;00m\n\u001b[0;32m      <a href='vscode-notebook-cell:/d%3A/Documents/Coding/python_bascis.ipynb#ch0000011?line=1'>2</a>\u001b[0m age \u001b[39m=\u001b[39m \u001b[39m-\u001b[39m\u001b[39m1\u001b[39m\n\u001b[1;32m----> <a href='vscode-notebook-cell:/d%3A/Documents/Coding/python_bascis.ipynb#ch0000011?line=2'>3</a>\u001b[0m \u001b[39massert\u001b[39;00m \u001b[39m0\u001b[39m\u001b[39m<\u001b[39mage\u001b[39m<\u001b[39m\u001b[39m100\u001b[39m, \u001b[39m'\u001b[39m\u001b[39mage must be realistic\u001b[39m\u001b[39m'\u001b[39m\n",
      "\u001b[1;31mAssertionError\u001b[0m: age must be realistic"
     ]
    }
   ],
   "source": [
    "# 断言函数assert，当某些条件没有得到满足时，程序立刻崩溃。\n",
    "age = -1\n",
    "assert 0<age<100, 'age must be realistic'"
   ]
  },
  {
   "cell_type": "code",
   "execution_count": 22,
   "metadata": {},
   "outputs": [
    {
     "data": {
      "text/plain": [
       "[('anne', 12), ('beth', 45), ('george', 32), ('damon', 102)]"
      ]
     },
     "execution_count": 22,
     "metadata": {},
     "output_type": "execute_result"
    }
   ],
   "source": [
    "# 并行迭代工具 zip，可以将两个序列缝合起来。二者长度不要求相等，但是结果只会返回至较短一个结束。\n",
    "names = ['anne', 'beth', 'george', 'damon']\n",
    "ages = [12, 45, 32, 102]\n",
    "list(zip(names,ages))"
   ]
  },
  {
   "cell_type": "code",
   "execution_count": 23,
   "metadata": {},
   "outputs": [],
   "source": [
    "# del删除一个对象的名字，不再使用。\n",
    "del a\n",
    "\n",
    "# 使用pass来表示什么都不做，直接跳过这一段。\n",
    "pass\n"
   ]
  }
 ],
 "metadata": {
  "interpreter": {
   "hash": "731ae9408b834e8e304ebf7b909e3292a44b8c9a9f2094ed2d7c7223cd151636"
  },
  "kernelspec": {
   "display_name": "Python 3.10.4 64-bit (windows store)",
   "language": "python",
   "name": "python3"
  },
  "language_info": {
   "codemirror_mode": {
    "name": "ipython",
    "version": 3
   },
   "file_extension": ".py",
   "mimetype": "text/x-python",
   "name": "python",
   "nbconvert_exporter": "python",
   "pygments_lexer": "ipython3",
   "version": "3.10.4"
  },
  "orig_nbformat": 4
 },
 "nbformat": 4,
 "nbformat_minor": 2
}
