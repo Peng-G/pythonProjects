{
 "cells": [
  {
   "cell_type": "code",
   "execution_count": 2,
   "metadata": {},
   "outputs": [
    {
     "name": "stdout",
     "output_type": "stream",
     "text": [
      "3\n"
     ]
    }
   ],
   "source": [
    "import numpy as np\n",
    "\n",
    "a = [1, 2]\n",
    "print(np.sum(a))"
   ]
  },
  {
   "cell_type": "code",
   "execution_count": 3,
   "metadata": {},
   "outputs": [
    {
     "name": "stdout",
     "output_type": "stream",
     "text": [
      "None\n"
     ]
    }
   ],
   "source": [
    "import os\n",
    "cvd = os.environ.get(\"CUDA_VISIBLE_DEVICES\")\n",
    "print(cvd)"
   ]
  },
  {
   "cell_type": "code",
   "execution_count": 3,
   "metadata": {},
   "outputs": [
    {
     "data": {
      "text/plain": [
       "_StoreAction(option_strings=[], dest='inf_queues', nargs=None, const=None, default=None, type=<class 'int'>, choices=[0, 1], help=None, metavar=None)"
      ]
     },
     "execution_count": 3,
     "metadata": {},
     "output_type": "execute_result"
    }
   ],
   "source": [
    "from argparse import ArgumentParser\n",
    "\n",
    "parser = ArgumentParser()\n",
    "parser.add_argument('solver', help='name of the solver', choices=['NA', 'PS', 'RND', 'JSQ'])\n",
    "parser.add_argument('nr_agents', type=int)\n",
    "parser.add_argument('nr_queues', type=int)\n",
    "parser.add_argument('delta_t', type=float)\n",
    "parser.add_argument('diff_srv_speeds', type=int, choices=[1, 2])\n",
    "parser.add_argument('inf_queues', type=int, choices=[0, 1])  # 0=False"
   ]
  },
  {
   "cell_type": "code",
   "execution_count": 7,
   "metadata": {},
   "outputs": [
    {
     "ename": "SyntaxError",
     "evalue": "invalid syntax (2990486882.py, line 1)",
     "output_type": "error",
     "traceback": [
      "\u001b[1;36m  Input \u001b[1;32mIn [7]\u001b[1;36m\u001b[0m\n\u001b[1;33m    print(parser.'solver')\u001b[0m\n\u001b[1;37m                 ^\u001b[0m\n\u001b[1;31mSyntaxError\u001b[0m\u001b[1;31m:\u001b[0m invalid syntax\n"
     ]
    }
   ],
   "source": [
    "print(parser.'solver')"
   ]
  },
  {
   "cell_type": "code",
   "execution_count": 4,
   "metadata": {},
   "outputs": [
    {
     "name": "stderr",
     "output_type": "stream",
     "text": [
      "usage: ipykernel_launcher.py [-h]\n",
      "                             {NA,PS,RND,JSQ} nr_agents nr_queues delta_t {1,2}\n",
      "                             {0,1}\n",
      "ipykernel_launcher.py: error: the following arguments are required: solver, nr_agents, nr_queues, delta_t, diff_srv_speeds, inf_queues\n"
     ]
    },
    {
     "ename": "SystemExit",
     "evalue": "2",
     "output_type": "error",
     "traceback": [
      "An exception has occurred, use %tb to see the full traceback.\n",
      "\u001b[1;31mSystemExit\u001b[0m\u001b[1;31m:\u001b[0m 2\n"
     ]
    }
   ],
   "source": [
    "args = parser.parse_args()"
   ]
  },
  {
   "cell_type": "code",
   "execution_count": 8,
   "metadata": {},
   "outputs": [
    {
     "ename": "ModuleNotFoundError",
     "evalue": "No module named 'ray.rllib.algorithms'",
     "output_type": "error",
     "traceback": [
      "\u001b[1;31m---------------------------------------------------------------------------\u001b[0m",
      "\u001b[1;31mModuleNotFoundError\u001b[0m                       Traceback (most recent call last)",
      "\u001b[1;32md:\\Documents\\Coding\\playground.ipynb Cell 6'\u001b[0m in \u001b[0;36m<cell line: 1>\u001b[1;34m()\u001b[0m\n\u001b[1;32m----> <a href='vscode-notebook-cell:/d%3A/Documents/Coding/playground.ipynb#ch0000005?line=0'>1</a>\u001b[0m \u001b[39mfrom\u001b[39;00m \u001b[39mray\u001b[39;00m\u001b[39m.\u001b[39;00m\u001b[39mrllib\u001b[39;00m\u001b[39m.\u001b[39;00m\u001b[39malgorithms\u001b[39;00m\u001b[39m.\u001b[39;00m\u001b[39mppo\u001b[39;00m \u001b[39mimport\u001b[39;00m (\n\u001b[0;32m      <a href='vscode-notebook-cell:/d%3A/Documents/Coding/playground.ipynb#ch0000005?line=1'>2</a>\u001b[0m     ppo_tf_policy,\n\u001b[0;32m      <a href='vscode-notebook-cell:/d%3A/Documents/Coding/playground.ipynb#ch0000005?line=2'>3</a>\u001b[0m     ppo_torch_policy,\n\u001b[0;32m      <a href='vscode-notebook-cell:/d%3A/Documents/Coding/playground.ipynb#ch0000005?line=3'>4</a>\u001b[0m     PPO \u001b[39mas\u001b[39;00m PPOTrainer,\n\u001b[0;32m      <a href='vscode-notebook-cell:/d%3A/Documents/Coding/playground.ipynb#ch0000005?line=4'>5</a>\u001b[0m     DEFAULT_CONFIG,\n\u001b[0;32m      <a href='vscode-notebook-cell:/d%3A/Documents/Coding/playground.ipynb#ch0000005?line=5'>6</a>\u001b[0m )\n",
      "\u001b[1;31mModuleNotFoundError\u001b[0m: No module named 'ray.rllib.algorithms'"
     ]
    }
   ],
   "source": [
    "from ray.rllib.algorithms.ppo import (\n",
    "    ppo_tf_policy,\n",
    "    ppo_torch_policy,\n",
    "    PPO as PPOTrainer,\n",
    "    DEFAULT_CONFIG,\n",
    ")"
   ]
  }
 ],
 "metadata": {
  "kernelspec": {
   "display_name": "Python 3.9.12 ('base')",
   "language": "python",
   "name": "python3"
  },
  "language_info": {
   "codemirror_mode": {
    "name": "ipython",
    "version": 3
   },
   "file_extension": ".py",
   "mimetype": "text/x-python",
   "name": "python",
   "nbconvert_exporter": "python",
   "pygments_lexer": "ipython3",
   "version": "3.9.12"
  },
  "orig_nbformat": 4,
  "vscode": {
   "interpreter": {
    "hash": "90ae384ec8aa6644af31da6e68cfa043ca5e4f959255e106df86226e1926c12a"
   }
  }
 },
 "nbformat": 4,
 "nbformat_minor": 2
}
